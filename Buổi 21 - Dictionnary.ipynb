{
 "cells": [
  {
   "cell_type": "markdown",
   "id": "a20f121d",
   "metadata": {},
   "source": [
    "# Dictionnary\n",
    "\n",
    "Dictionnary là một dạng list đặc biệt, nó khác list ở chỗ không lưu trữ các giá trị theo chỉ số vị trí, thay vào đó Dictionary sẽ lưu trữ các giá trị theo key\n",
    "\n",
    "##### Tài liệu tham khảo: https://www.w3schools.com/python/python_dictionaries.asp\n",
    "\n",
    "### Khai báo một dictionary\n",
    "\n",
    "Cú pháp:\n",
    "\n",
    "`<tên dictionary> = {}`\n",
    "\n",
    "### Dictionary được khai báo bằng hai dấu hoặc nhọn\n",
    "\n",
    "Đây là một dictionary rỗng\n",
    "\n",
    "<b>Ví dụ 1:</b>\n",
    "\n",
    "`a = {}`\n",
    "\n",
    "a là một dictionary rỗng\n",
    "\n",
    "<b>Ví dụ 2:</b>\n",
    "\n",
    "`a = {\"tên\": \"Nguyễn Tâm Điền\", \"tuổi\": 13, \"giới tính\": \"Nam\"}`\n",
    "\n",
    "b là một dictionary có 3 key, mõi key đều có một giá trị riêng biệt\n",
    "\n",
    "Key có thể mang kiểu dữ liệu là chuỗi hoặc số\n",
    "\n",
    "##### Mỗi một key đều phải có giá trị của riêng nó, không thể khai báo key không có giá trị\n",
    "\n",
    "<b>Hãy khai báo một dictionary có 3 phần tử</b>"
   ]
  },
  {
   "cell_type": "code",
   "execution_count": null,
   "id": "d835f461",
   "metadata": {
    "scrolled": true
   },
   "outputs": [],
   "source": [
    "a = {\"tên\": \"Nguyễn Tâm Điền\", \"tuổi\": 13, \"giới tính\": \"Nam\"}\n",
    "print(a[\"tuổi\"])"
   ]
  },
  {
   "cell_type": "code",
   "execution_count": null,
   "id": "397e7e11",
   "metadata": {},
   "outputs": [],
   "source": [
    "a = {1:\"hi\",\"2\":\"hello\"}\n",
    "print(a[1],a[\"2\"])"
   ]
  },
  {
   "cell_type": "code",
   "execution_count": null,
   "id": "7bac54e8",
   "metadata": {},
   "outputs": [],
   "source": [
    "a = {1:\"hi\",\"1\":\"hello\",1:\"xin chào\"}\n",
    "print(a)"
   ]
  },
  {
   "cell_type": "markdown",
   "id": "be1e321c",
   "metadata": {},
   "source": [
    "### Thêm key vào dictionary\n",
    "\n",
    "Cú pháp:\n",
    "\n",
    "`<tên dictionary>[<key>] = <giá trị>`\n",
    "\n",
    "<b>Ví dụ 1:</b>\n",
    "\n",
    "`a = {}\n",
    "a[\"tên\"] = \"NTD\"`\n",
    "\n",
    "a là một dictionary có một phần tử, phần tử đó có key là \"tên\" và giá trị của key đó là \"NTD\"\n",
    "\n",
    "##### Lưu ý, nếu trong trường hợp đã tồn tại key trong dictionary, dùng lệnh trên sẽ thay đổi giá trị key đó (không phải thêm key khác vào)\n",
    "\n",
    "<b>Ví dụ 2:</b>\n",
    "\n",
    "`a = {}\n",
    "a[\"tên\"] = \"NTD\"\n",
    "a[\"tên\"] = \"Nguyễn Tâm Điền\"`\n",
    "\n",
    "a vẫn là một dictionary có một phần tử, phần tử đó có key là \"tên\" và giá trị của key đó là \"Nguyễn Tâm Điền\"\n",
    "\n",
    "<b>Hãy khai báo một dictionary không có phần tử nào, sau đó thêm một phần tử vào dictionary đó</b>"
   ]
  },
  {
   "cell_type": "code",
   "execution_count": null,
   "id": "7573ebef",
   "metadata": {},
   "outputs": [],
   "source": [
    "a = {\"tên\":\"Lê Hồng Quý\"}\n",
    "a[\"tuổi\"] = 13\n",
    "print(a)"
   ]
  },
  {
   "cell_type": "code",
   "execution_count": null,
   "id": "54d6f4eb",
   "metadata": {},
   "outputs": [],
   "source": [
    "## check xem key đã ở trong dictionary\n",
    "a = {\"tên\":\"NTD\"}\n",
    "if \"tên\" in a:\n",
    "    a[\"tuổi\"] = 13\n",
    "else:\n",
    "    a[\"tên\"] = \"Nguyễn Tâm Điền\"\n",
    "print(a)"
   ]
  },
  {
   "cell_type": "code",
   "execution_count": null,
   "id": "b07280c2",
   "metadata": {},
   "outputs": [],
   "source": [
    "### Khởi tạo một dictinary D rỗng\n",
    "### Yêu cầu người dùng nhập vào key, sau đó nhập vào giá trị vào trong dictionary D)\n",
    "### Đến khi nào người dùng nhập key là -1 thì dừng lại\n",
    "### Nếu người dùng nhập trùng key thì không yêu cầu nhập giá trị mà hiện ra thông báo là key đã tồn tại và yêu cầu người dùng nhập lại key khác\n",
    "D = {}\n",
    "while True:\n",
    "    key = input(\"Nhập key: \")\n",
    "    if key == \"-1\":\n",
    "        break\n",
    "    else:\n",
    "        if key in D:\n",
    "            print(\"Key này đã tổn tại\")\n",
    "        else:\n",
    "            v = input(\"Nhập giá trị:\")\n",
    "            D[key] = v\n",
    "print(D)\n"
   ]
  },
  {
   "cell_type": "markdown",
   "id": "65c98825",
   "metadata": {},
   "source": [
    "### Truy xuất phần tử trong dictionary\n",
    "\n",
    "Cú pháp:\n",
    "\n",
    "`<tên dictionary>[<key>]`\n",
    "\n",
    "<b>Ví dụ:</b>\n",
    "\n",
    "`a = {\"tên\": \"Nguyễn Tâm Điền\", \"tuổi\": 13, \"giới tính\": \"Nam\"}\n",
    "print(a[\"tên\"])`\n",
    "\n",
    "Màn hình sẽ in: Nguyễn Tâm Điền\n",
    "\n",
    "<b>Hãy khai báo một dictionary rồi in ra màn hình một phần tử bất kỳ trong dictionary đó</b>"
   ]
  },
  {
   "cell_type": "code",
   "execution_count": null,
   "id": "f6159385",
   "metadata": {},
   "outputs": [],
   "source": [
    "a = {\"tên\": \"Nguyễn Tâm Điền\", \"tuổi\": 13, \"giới tính\": \"Nam\"}\n",
    "print(a[\"tên\"])"
   ]
  },
  {
   "cell_type": "markdown",
   "id": "afa92f87",
   "metadata": {},
   "source": [
    "### Sao chép dictionary\n",
    "\n",
    "##### Việc sao chép dictionary được thực hiện hệt như sao chép list, chúng ta cần phải sử dụng lệnh copy()"
   ]
  },
  {
   "cell_type": "markdown",
   "id": "ef7e800d",
   "metadata": {},
   "source": [
    "### Duyệt dictionary bằng lệnh for\n",
    "\n",
    "Cú pháp:\n",
    "\n",
    "`for <tên biến> in <tên dictionary>:`\n",
    "\n",
    "Biến sẽ có giá trị là từng key trong dictionary\n",
    "\n",
    "<b>Ví dụ:</b>\n",
    "\n",
    "`a = {\"tên\": \"Nguyễn Tâm Điền\", \"tuổi\": 13, \"giới tính\": \"Nam\"}\n",
    "for i in a:\n",
    "    print(i)`\n",
    "    \n",
    "Màn hình sẽ in ra:\n",
    "\n",
    "tên\n",
    "\n",
    "tuổi\n",
    "\n",
    "giới tính\n",
    "\n",
    "<b>Hãy khai báo một dictionary rồi in ra màn hình toàn bộ giá trị trong dictionary đó</b>"
   ]
  },
  {
   "cell_type": "code",
   "execution_count": null,
   "id": "3bdd1508",
   "metadata": {},
   "outputs": [],
   "source": [
    "l = {\"hi\",\"hello\",3}\n",
    "for i in l:\n",
    "    print(i)"
   ]
  },
  {
   "cell_type": "code",
   "execution_count": null,
   "id": "b208094b",
   "metadata": {},
   "outputs": [],
   "source": [
    "l = {3:\"hi\",\"he\":\"hello\",5:3}\n",
    "for i in l:\n",
    "    print(i)## Tên key"
   ]
  },
  {
   "cell_type": "code",
   "execution_count": null,
   "id": "5c972d4b",
   "metadata": {},
   "outputs": [],
   "source": [
    "l = {3:\"hi\",\"he\":\"hello\",5:3}\n",
    "for i in l:\n",
    "    print(l[i])## Giá trị của key"
   ]
  },
  {
   "cell_type": "markdown",
   "id": "1982f4b1",
   "metadata": {},
   "source": [
    "### Bài tập"
   ]
  },
  {
   "cell_type": "markdown",
   "id": "3060a950",
   "metadata": {},
   "source": [
    "Viết chương trình đếm số lần xuất hiện của một từ trong một văn bản nhất định"
   ]
  },
  {
   "cell_type": "code",
   "execution_count": null,
   "id": "af64832c",
   "metadata": {},
   "outputs": [],
   "source": [
    "vanban = \"- A a a... Anh Tràng! Anh Tràng đã về chúng mày ơi! - Anh Tràng ơi bế em mấy... - Anh Tràng ơi đã uống rượu chưa? - Anh Tràng ơi!... Đứa túm đằng trước, đứa túm đằng sau, đứa cù, đứa kéo, đứa lôi chân không cho đi. Tràng chỉ ngửa mặt lên cười hềnh hệch. Cái xóm ngụ cư tồi tàn ấy mỗi chiều lại xôn xao lên được một lúc. Nhưng độ này thì trẻ con không đứa nào buồn ra đón Tràng nữa, chúng nó ngồi ủ rũ dưới những xó đường không buồn nhúc nhích. Trong bóng chiều nhá nhem, Tràng đi từng bước mệt mỏi, chiếc áo nâu tàng vắt sang một bên cánh tay, cái đầu trọc nhẵn chúi về đằng trước. Hình như những lo lắng, chật vật trong một ngày đè xuống cái lưng to rộng như lưng gấu của hắn. Cái đói đã tràn đến xóm này tự lúc nào. Những gia đình từ những vùng Nam Định, Thái Bình, đội chiếu lũ lượt bồng bế, dắt díu nhau lên xanh xám như những bóng ma, và nằm ngổn ngang khắp lều chợ. Người chết như ngả rạ. Không buổi sáng nào người trong làng đi chợ, đi làm đồng không gặp ba bốn cái thây nằm còng queo bên đường. Không khí vẩn lên mùi ẩm thối của rác rưởi và mùi gây của xác người. Giữa cái cảnh tối sầm lại vì đói khát ấy, một buổi chiều người trong xóm bỗng thấy Tràng về với một người đàn bà nữa. Mặt hắn có một vẻ gì phởn phơ khác thường. Hắn tủm tỉm cười nụ một mình và hai mắt thì sáng lên lấp lánh. Người đàn bà đi sau hắn chừng ba bốn bước. Thị cắp cái thúng con, đầu hơi cúi xuống, cái nón rách tàng nghiêng nghiêng che khuất đi nửa mặt. Thị có vẻ rón rén, e thẹn. Mấy đứa trẻ con thấy lạ vội chạy ra đón xem. Sợ chúng nó đùa như trước, Tràng vội vàng nghiêm nét mặt, lắc đầu ra hiệu không bằng lòng.\"\n",
    " ## xóa đi các dấu câu\n",
    "vanban = vanban.replace(\"!\", \"\")\n",
    "vanban = vanban.replace(\".\",\"\")\n",
    "vanban = vanban.replace(\",\",\"\")\n",
    "vanban = vanban.replace(\"-\",\"\")\n",
    "vanban = vanban.replace(\"?\",\"\")\n",
    "vanban = vanban.split()#tạo tành list\n",
    "\n",
    "## key là từ - giá trị là số lượng từ\n",
    "D = {}\n",
    "for i in vanban:\n",
    "    D[i] = vanban.count(i)\n",
    "print(D)\n"
   ]
  },
  {
   "cell_type": "markdown",
   "id": "57c6f1e7",
   "metadata": {},
   "source": [
    "Viết chương trình cho phép người dùng quản lý sản phẩm, gồm các chức năng sau: \n",
    "\n",
    "- Hiển thị danh sách sản phẩm\n",
    "- Thêm sản phẩm mới vào danh sách\n",
    "- Sửa tên của sản phẩm trong danh sách\n",
    "- Xoá một sản phẩm khỏi danh sách"
   ]
  },
  {
   "cell_type": "code",
   "execution_count": null,
   "id": "8541b8c3",
   "metadata": {},
   "outputs": [],
   "source": []
  },
  {
   "cell_type": "code",
   "execution_count": null,
   "id": "8c953400",
   "metadata": {},
   "outputs": [],
   "source": [
    "D_ds = {\"1\":\"Phở gà\",\"2\":\"Phở bò\"}\n",
    "def hienthi(D):\n",
    "    print(\"------------------\")\n",
    "    print()\n",
    "    if len(D)==0:\n",
    "        print(\"Chưa có sản phẩm nào\")\n",
    "    for i in D:\n",
    "        print(i,\":\",D[i])\n",
    "    print()\n",
    "    print(\"------------------\")\n",
    "def themsanpham(D):\n",
    "    while True:\n",
    "        ma_id = input(\"Mời nhập vào ID, nếu muốn thoát chức năng thì nhập 0 \")\n",
    "        if ma_id == \"0\":\n",
    "            return\n",
    "        if ma_id in D:\n",
    "            print(\"ID đã tồn tại, mời nhập vào ID khác:\")\n",
    "        else:\n",
    "            break\n",
    "    name = input(\"Mời nhập tên sản phẩm: \")\n",
    "    D[ma_id] = name\n",
    "def suasanpham(D):\n",
    "    while True:\n",
    "        ma_id = input(\"Mời nhập vào ID, nếu muốn thoát chức năng thì nhập 0 \")\n",
    "        if ma_id == \"0\":\n",
    "            return\n",
    "        if ma_id not in D:\n",
    "            print(\"ID không tồn tại, mời nhập vào ID khác\")\n",
    "        else:\n",
    "            break\n",
    "    name = input(\"Mời nhập tên sản phẩm mới: \")\n",
    "    D[ma_id]=name\n",
    "def xoasanpham(D):\n",
    "    while True:\n",
    "        ma_id = input(\"Mời nhập vào ID, nếu muốn thoát chức năng thì nhập 0\")\n",
    "        if ma_id == \"0\":\n",
    "            return\n",
    "        if ma_id not in D:\n",
    "            print(\"ID không tồn tại, mời nhập ID khác: \")\n",
    "        else:\n",
    "            break\n",
    "    chac_xoa = input(\"Nếu bạn muốn chắc chắn muốn xóa sản phẩm thì ấn C, ngược lại gõ bất kì \")\n",
    "    if chac_xoa == \"C\":\n",
    "        D.pop(ma_id)\n",
    "        print(\"Sản phẩm đã được xóa\")\n",
    "print(\"Nhập H - hiển thị sản phẩm\")\n",
    "print(\"Nhập T - thêm sản phẩm\")\n",
    "print(\"Nhập S - sửa sản phẩm\")\n",
    "print(\"Nhập X - xóa sản phẩm\")\n",
    "hienthi(D_ds)\n",
    "while True:\n",
    "    tinh_nang = input(\"Mời nhập vào tính năng!\")\n",
    "    if tinh_nang == \"H\":\n",
    "        hienthi(D_ds)\n",
    "    elif tinh_nang == \"T\":\n",
    "        themsanpham(D_ds)\n",
    "    elif tinh_nang == \"S\":\n",
    "        suasanpham(D_ds)\n",
    "    elif tinh_nang == \"X\":\n",
    "        xoasanpham(D_ds)\n",
    "    elif tinh_nang == \"0\":\n",
    "        break"
   ]
  },
  {
   "cell_type": "code",
   "execution_count": null,
   "id": "3b05f5e4",
   "metadata": {},
   "outputs": [],
   "source": []
  }
 ],
 "metadata": {
  "kernelspec": {
   "display_name": "Python 3 (ipykernel)",
   "language": "python",
   "name": "python3"
  },
  "language_info": {
   "codemirror_mode": {
    "name": "ipython",
    "version": 3
   },
   "file_extension": ".py",
   "mimetype": "text/x-python",
   "name": "python",
   "nbconvert_exporter": "python",
   "pygments_lexer": "ipython3",
   "version": "3.10.2"
  }
 },
 "nbformat": 4,
 "nbformat_minor": 5
}
