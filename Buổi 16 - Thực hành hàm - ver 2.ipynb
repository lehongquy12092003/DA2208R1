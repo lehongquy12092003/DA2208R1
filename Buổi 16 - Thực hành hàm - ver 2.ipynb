{
 "cells": [
  {
   "cell_type": "markdown",
   "id": "028ffec3",
   "metadata": {},
   "source": [
    "# Thực hành hàm\n",
    "\n",
    "### Bài 1\n",
    "\n",
    "Viết hàm có dữ liệu đầu vào là 2 số a và b, số nào lớn hơn thì in bảng cửu chương của số đó"
   ]
  },
  {
   "cell_type": "code",
   "execution_count": null,
   "id": "1974966b",
   "metadata": {},
   "outputs": [],
   "source": [
    "def bcc(a,b):\n",
    "    for i in range(1,11):\n",
    "        if a > b:\n",
    "            print(\"{0} x {1} = {2}\".format(a,i,a*i))\n",
    "        else:\n",
    "            print(\"{0} x {1} = {2}\".format(b,i,b*i))\n",
    "c = bcc(3,4)"
   ]
  },
  {
   "cell_type": "markdown",
   "id": "9de8ffaa",
   "metadata": {},
   "source": [
    "### Bài 2\n",
    "\n",
    "Viết hàm `xoachuoi` có dữ liệu đầu vào là 2 chuỗi a và b, hãy tìm trong chuỗi a có chuỗi b hay không, nếu có hãy xóa toán bộ chuỗi b trong a.\n",
    "\n",
    "Sau đó trả về chuỗi a mới\n",
    "\n",
    "Ví dụ:\n",
    "\n",
    "chuoi1 = \"xin chào các bạn, các bạn có khỏe không?\"\n",
    "\n",
    "chuoi2 = \"các bạn\"\n",
    "\n",
    "chuoi3 = xoachuoi(chuoi1,chuoi2)\n",
    "\n",
    "print(chuoi3)\n",
    "\n",
    "Kết quả in ra là:\n",
    "xin chào ,  có khỏe không"
   ]
  },
  {
   "cell_type": "code",
   "execution_count": 1,
   "id": "05de1584",
   "metadata": {},
   "outputs": [
    {
     "name": "stdout",
     "output_type": "stream",
     "text": [
      "Xin chào  bạn\n"
     ]
    }
   ],
   "source": [
    "def xoachuoi(a,b):\n",
    "    return a.replace(b,\"\") # Thay thế b trang a bằng khoảng trắng\n",
    "c = xoachuoi(\"Xin chào các bạn\",\"các\")\n",
    "print(c)"
   ]
  },
  {
   "cell_type": "markdown",
   "id": "d626394e",
   "metadata": {},
   "source": [
    "### Bài 3\n",
    "\n",
    "Viết hàm `kiemtramatkhau` với dữ liệu đầu vào là 1 chuỗi có công dụng như sau:\n",
    "\n",
    "Kiểm tra xem chuỗi đầu vào có phải là mật khẩu mạnh hay không, nếu có trả về True, nếu không trả về False\n",
    "\n",
    "Mật khẩu mạnh là mật khẩu phải có ít nhất 1 chữ hoa, 1 chữ thường, 1 số và 1 ký tự đặc biệt"
   ]
  },
  {
   "cell_type": "code",
   "execution_count": 2,
   "id": "875d88f5",
   "metadata": {},
   "outputs": [
    {
     "name": "stdout",
     "output_type": "stream",
     "text": [
      "False\n"
     ]
    }
   ],
   "source": [
    "def kiemtramatkhau(matkhau):\n",
    "    upper = False\n",
    "    lower = False\n",
    "    number = False\n",
    "    special = False\n",
    "    for i in matkhau:\n",
    "        if i.isupper():\n",
    "            upper = True\n",
    "        elif i.islower():\n",
    "            lower = True\n",
    "        elif i.isnumeric():\n",
    "            number = True\n",
    "        else:\n",
    "            special = True\n",
    "    return upper and lower and number and special\n",
    "c = kiemtramatkhau(\"Quy1\")\n",
    "print(c)"
   ]
  },
  {
   "cell_type": "markdown",
   "id": "1572568f",
   "metadata": {},
   "source": [
    "### Bài 4\n",
    "\n",
    "Viết hàm có 5 dữ liệu đầu vào là 5 số nguyên, tìm giá trị lớn nhì trong 5 số đó"
   ]
  },
  {
   "cell_type": "code",
   "execution_count": null,
   "id": "876707ae",
   "metadata": {},
   "outputs": [],
   "source": [
    "def lonnhi(a,b,c,d,e):\n",
    "    m = max(a,b,c,d,e)\n",
    "    m2 = a\n",
    "    for i in [a,b,c,d,e]:\n",
    "        if i < m and i >= m2:\n",
    "            m2 = i\n",
    "    return m2\n",
    "c = lonnhi(1,1,7,4,5)\n",
    "print(c)"
   ]
  },
  {
   "cell_type": "markdown",
   "id": "974d7da1",
   "metadata": {},
   "source": [
    "### Bài 5\n",
    "\n",
    "Nhập vào 2 cặp tọa độ tâm đường tròn và 2 bán kính R\n",
    "\n",
    "Hãy vẽ 2 hình tròn theo tọa độ và bán kính trên (tọa độ thứ nhất và bán kính thứ nhất là hình tròn thứ nhất, tọa độ thứ 2 với bán kính thứ 2 là hình tròn thứ hai)\n",
    "\n",
    "Viết hàm kiểm tra xem 2 hình tròn trên cắt nhau bao nhiêu điểm"
   ]
  },
  {
   "cell_type": "markdown",
   "id": "a2157de8",
   "metadata": {},
   "source": [
    "### Bài 6\n",
    "\n",
    "Nhập vào 2 tọa độ là 2 đỉnh của một hình chữ nhật\n",
    "\n",
    "Sau đó\n",
    "\n",
    "Nhập vào tọa độ tâm đường tròn và bán kính R\n",
    "\n",
    "Hãy vẽ hình hình chữ nhật và đường tròn trên\n",
    "\n",
    "Viết hàm kiểm tra xem đường tròn trên và hình chữ nhật cắt nhau tại bao nhiêu điểm"
   ]
  },
  {
   "cell_type": "markdown",
   "id": "d1491579",
   "metadata": {},
   "source": [
    "### Bài 7\n",
    "\n",
    "Viết hàm kiểm tra số nguyên tố\n",
    "\n",
    "Viết hàm kiểm tra số hoàn hảo\n",
    "\n",
    "Viết hàm kiểm tra số chính phương\n",
    "\n",
    "Viết hàm kiểm tra số Armstrong\n",
    "\n",
    "Nhập vào một chuỗi, hãy lọc và tìm ra những số ở trong chuỗi (2 chữ số liền nhau là một số)\n",
    "\n",
    "Ví dụ chuỗi: \"AB25SDc5DSjjh52\"\n",
    "\n",
    "Trong chuỗi này ta có 3 số: 25, 5 và 52\n",
    "\n",
    "Sau khi lọc số, dùng các hàm trên để kiểm tra và thực hiện như sau:\n",
    "\n",
    "Cho biến S\n",
    "\n",
    "- Nếu số đó là số nguyên tố, ta thực hiện S += số đó\n",
    "- Nếu số đó là số hoàn hảo, ta thực hiện S -= số đó\n",
    "- Nếu số đó là số chính phương, ta thực hiện S /= số đó\n",
    "- Nếu đó là số Armstrong ta cho S = 0\n",
    "\n",
    "Hãy tính và in S"
   ]
  },
  {
   "cell_type": "code",
   "execution_count": 3,
   "id": "0b699e33",
   "metadata": {},
   "outputs": [
    {
     "name": "stdout",
     "output_type": "stream",
     "text": [
      "Nhập vào chuỗi: vgh7l5\n",
      "12\n"
     ]
    }
   ],
   "source": [
    "# Tất cả các hàm đều có 1 tham số đầu vào là số nguyên và trả về True/False\n",
    "def songuyento(a):\n",
    "    if a < 2:\n",
    "        return False\n",
    "    for i in range(2,a):\n",
    "        if a%i == 0:\n",
    "            return False\n",
    "    return True\n",
    "def sohoanhao(a):# số hoàn hảo là số mà tổng ước của nó (ko bao gồm nó) bằng chính nó\n",
    "    tong = 0\n",
    "    for i in range(1,a):\n",
    "        if a%i == 0:\n",
    "            tong += i\n",
    "    if tong == a:\n",
    "        return True\n",
    "    return False\n",
    "def sochinhphuong(a):\n",
    "    can_a = a**0.5\n",
    "    if can_a % 1 == 0:\n",
    "        return True\n",
    "    return False\n",
    "def soArmstrong(a):\n",
    "    slchuso = len(str(a))\n",
    "    tong = 0\n",
    "    a0 = a\n",
    "    while a != 0:\n",
    "        tong += (a%10)**slchuso\n",
    "        a = a // 10\n",
    "    if tong == a0:\n",
    "        return True\n",
    "    return False\n",
    "chuoi = input(\"Nhập vào chuỗi: \")\n",
    "chuoi += \"a\"\n",
    "luutru = \"\"\n",
    "S = 0\n",
    "\n",
    "for i in chuoi:\n",
    "    if i.isnumeric():\n",
    "        luutru += i\n",
    "    else: \n",
    "        if luutru != \"\":\n",
    "            luutru = int(luutru)\n",
    "            if songuyento(luutru):\n",
    "                S += luutru\n",
    "            elif sohoanhao(luutru):\n",
    "                S -= luutru\n",
    "            elif sochinhphuong(luutru):\n",
    "                S /= luutru\n",
    "            elif soArmstrong(luutru):\n",
    "                S = 0\n",
    "            luutru = \"\"\n",
    "print(S)"
   ]
  }
 ],
 "metadata": {
  "kernelspec": {
   "display_name": "Python 3 (ipykernel)",
   "language": "python",
   "name": "python3"
  },
  "language_info": {
   "codemirror_mode": {
    "name": "ipython",
    "version": 3
   },
   "file_extension": ".py",
   "mimetype": "text/x-python",
   "name": "python",
   "nbconvert_exporter": "python",
   "pygments_lexer": "ipython3",
   "version": "3.10.2"
  }
 },
 "nbformat": 4,
 "nbformat_minor": 5
}
