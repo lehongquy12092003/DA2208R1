{
 "cells": [
  {
   "cell_type": "markdown",
   "id": "f13965b3",
   "metadata": {},
   "source": [
    "### Bài 1\n",
    "\n",
    "Viết hàm `tientaxi` tính tiền taxi với tham số đầu vào là số km đi được và trả về số tiền\n",
    "\n",
    "- 1km đầu là 15000.\n",
    "- Từ km thứ 2 đến km thứ 10 là 14000.\n",
    "- Từ km thứ 11 đến km thứ 20 là 12500.\n",
    "- Từ km thứ 21 đến km thứ 30 là 11000.\n",
    "- Trên 30km thì mỗi km tăng thêm là 9000."
   ]
  },
  {
   "cell_type": "code",
   "execution_count": 29,
   "id": "112a50d0",
   "metadata": {},
   "outputs": [
    {
     "name": "stdout",
     "output_type": "stream",
     "text": [
      "Số tiền phải trả là  29000\n"
     ]
    }
   ],
   "source": [
    "def tinhtientaxi(km):\n",
    "    if km == 1:\n",
    "        tien = 15000\n",
    "    elif 2 <= km <= 10 :\n",
    "        tien = 15000 + (km - 1) * 14000\n",
    "    elif 11 <= km <= 20:\n",
    "        tien = 15000 + 9*14000 + (km - 10)*12500\n",
    "    elif 21 <= km <= 30:\n",
    "        tien = 15000 + 9*14000 + 10*12500 + (km - 20)*11000\n",
    "    else:\n",
    "        tien = 15000 + 9*14000 + 10*12500 + 10*11000 + (km - 30)*9000\n",
    "    return tien\n",
    "c = tinhtientaxi(2)\n",
    "print(\"Số tiền phải trả là \",c)"
   ]
  },
  {
   "cell_type": "code",
   "execution_count": null,
   "id": "da88994a",
   "metadata": {},
   "outputs": [],
   "source": []
  },
  {
   "cell_type": "markdown",
   "id": "7c40ebdb",
   "metadata": {},
   "source": [
    "### Bài 2\n",
    "\n",
    "Một hãng cung cấp dịch vụ điện thoại khuyến khích người dùng đăng ký số thuê bao mới bằng cách, khi người dùng đến đăng ký thuê báo sẽ được tặng 2 số may mắn n và k, hãng sẽ khuyến mãi cho người đó số tiền vào tài khoản từ số n sau khi xóa k chữ số\n",
    "\n",
    "Hãy viết hàm `tienkm` cho vào n và k, trả về số lớn nhất có thể sau khi xóa k chữ số trong n"
   ]
  },
  {
   "cell_type": "markdown",
   "id": "4c877020",
   "metadata": {},
   "source": [
    "### Bài 3\n",
    "\n",
    "Cấp số cộng là một dãy số mà kể từ số hạng thứ hai trở đi thì mỗi số hạng hơn số hạng liền trước của nó k đơn vị\n",
    "\n",
    "Ví dụ:\n",
    "- 2, 4, 6, 8, 10,.. là một cấp số cộng với k là 2\n",
    "- 3, 6, 9, 12,... là một cấp số cộng với k là 3\n",
    "\n",
    "Tí đã viết được 4 số là 1 cấp số cộng nhưng Tèo lại xóa đi mất 1 số\n",
    "\n",
    "Bạn hãy viết hàm `timcsc` cho vào 3 số hạng là 3 số còn lại của cấp số cộng, trả về số bị thiếu (trong trường hợp có 2 đáp án, trả về đáp án lớn nhất)\n",
    "\n",
    "Ví dụ:\n",
    "\n",
    "- timcsc(4,6,8) kết quả là 10\n",
    "- timcsc(10,1,4) kết quả là 7"
   ]
  },
  {
   "cell_type": "code",
   "execution_count": 69,
   "id": "6e1fcaf0",
   "metadata": {},
   "outputs": [
    {
     "name": "stdout",
     "output_type": "stream",
     "text": [
      "10\n"
     ]
    }
   ],
   "source": [
    "def csc(a,b,c):\n",
    "    if a>b:\n",
    "        a,b = b,a\n",
    "    if a>c:\n",
    "        a,c = c,a\n",
    "    if b>c:\n",
    "        b,c = c,b        \n",
    "    if (b-a) == (c-b)*2:\n",
    "        return a + (c-b)\n",
    "    elif (b-a)*2 == (c-b):\n",
    "        return b + (b-a)\n",
    "    return c + (c-b)\n",
    "print(csc(4,8,6))"
   ]
  },
  {
   "cell_type": "code",
   "execution_count": null,
   "id": "67f1247b",
   "metadata": {},
   "outputs": [],
   "source": []
  }
 ],
 "metadata": {
  "kernelspec": {
   "display_name": "Python 3 (ipykernel)",
   "language": "python",
   "name": "python3"
  },
  "language_info": {
   "codemirror_mode": {
    "name": "ipython",
    "version": 3
   },
   "file_extension": ".py",
   "mimetype": "text/x-python",
   "name": "python",
   "nbconvert_exporter": "python",
   "pygments_lexer": "ipython3",
   "version": "3.10.2"
  }
 },
 "nbformat": 4,
 "nbformat_minor": 5
}
