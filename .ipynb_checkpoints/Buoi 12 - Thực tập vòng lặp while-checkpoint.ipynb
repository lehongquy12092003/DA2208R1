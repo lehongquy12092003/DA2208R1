{
 "cells": [
  {
   "cell_type": "markdown",
   "id": "1f7be993",
   "metadata": {},
   "source": [
    "# Thực tập vòng lặp While\n",
    "\n",
    "### Bài 1\n",
    "\n",
    "Nhập vào số a, sử dụng lệnh while (không sử dụng break và for) để xác định xem số đó có phải là số nguyên tố hay không"
   ]
  },
  {
   "cell_type": "code",
   "execution_count": null,
   "id": "8cb73965",
   "metadata": {},
   "outputs": [],
   "source": [
    "a = float(input(\"Nhập số a = \"))\n",
    "while a <= 0 or a % 1 != 0:\n",
    "    a = float(input(\"Nhập số a = \"))\n",
    "\n",
    "i = 1\n",
    "dem = 0\n",
    "while i <= a:\n",
    "    if a % i == 0:\n",
    "        dem += 1\n",
    "    i += 1\n",
    "if dem == 2:\n",
    "    print(\"a là số nguyên tố\")\n",
    "else:\n",
    "    print(\"a không phải số nguyên tố\")"
   ]
  },
  {
   "cell_type": "markdown",
   "id": "9f2357ca",
   "metadata": {},
   "source": [
    "### Bài 2\n",
    "\n",
    "Hãy sử dụng lệnh while lập trình cho bài đoán số ở buổi thứ 9"
   ]
  },
  {
   "cell_type": "code",
   "execution_count": null,
   "id": "db79cb9d",
   "metadata": {},
   "outputs": [],
   "source": []
  },
  {
   "cell_type": "markdown",
   "id": "58f5b789",
   "metadata": {},
   "source": [
    "### Bài 3\n",
    "\n",
    "Nhập vào số a, hãy đếm a có bao nhiêu chữ số chẵn, bao nhiêu cữ số lẻ\n",
    "\n",
    "#### Cách 1 (dùng chuỗi):"
   ]
  },
  {
   "cell_type": "code",
   "execution_count": null,
   "id": "e7f9da21",
   "metadata": {},
   "outputs": [],
   "source": [
    "a = float(input(\"Nhập số a = \"))\n",
    "while a <= 0 or a % 1 != 0:\n",
    "    a = float(input(\"Nhập lại số a = \"))\n",
    "\n",
    "a = str(int(a)) ## chuyển a từ số thực sang số nguyên rồi chuyển sang chuỗi\n",
    "\n",
    "i = 0\n",
    "dem_chan = 0\n",
    "dem_le = 0\n",
    "while i < len(a):\n",
    "    if int(a[i]) % 2 == 0:\n",
    "        dem_chan += 1\n",
    "    else:\n",
    "        dem_le += 1\n",
    "    i += 1\n",
    "print(\"a có \",dem_chan,\"số chẵn\")\n",
    "print(\"a có\",dem_le,\"số lẻ\")"
   ]
  },
  {
   "cell_type": "markdown",
   "id": "9a3d9703",
   "metadata": {},
   "source": [
    "#### Cách 2 (không dùng chuỗi):"
   ]
  },
  {
   "cell_type": "code",
   "execution_count": 3,
   "id": "d4e474c8",
   "metadata": {},
   "outputs": [
    {
     "name": "stdout",
     "output_type": "stream",
     "text": [
      "Nhập số a = 456\n",
      "a có  2 số chẵn\n",
      "a có  1 số lẻ\n"
     ]
    }
   ],
   "source": [
    "a = float(input(\"Nhập số a = \"))\n",
    "while a <= 0 or a % 1 != 0:\n",
    "    a = float(input(\"Nhập lại số a = \"))\n",
    "    \n",
    "dem_chan = 0\n",
    "dem_le = 0\n",
    "while a > 0:\n",
    "    b = a % 10\n",
    "    a = a // 10\n",
    "    if b % 2 == 0:\n",
    "        dem_chan += 1\n",
    "    else:\n",
    "        dem_le += 1\n",
    "print(\"a có \",dem_chan,\"số chẵn\")\n",
    "print(\"a có \",dem_le,\"số lẻ\")"
   ]
  },
  {
   "cell_type": "markdown",
   "id": "69539ece",
   "metadata": {},
   "source": [
    "### Bài 4\n",
    "\n",
    "Nhập vào số a, hãy tính tổng các chữ số nguyên tố của a"
   ]
  },
  {
   "cell_type": "code",
   "execution_count": 4,
   "id": "f001bd9a",
   "metadata": {},
   "outputs": [
    {
     "name": "stdout",
     "output_type": "stream",
     "text": [
      "Nhập số a = 123\n",
      "5.0\n"
     ]
    }
   ],
   "source": [
    "a = float(input(\"Nhập số a = \"))\n",
    "while a <= 0 or a % 1 != 0:\n",
    "    a = float(input(\"Nhập lại số a = \"))\n",
    "tong = 0\n",
    "while a > 0:\n",
    "    b = a % 10\n",
    "    a = a // 10\n",
    "    \n",
    "    if b == 2 or b == 3 or b == 5 or b == 7:\n",
    "        tong += b\n",
    "print(tong)\n",
    "    "
   ]
  },
  {
   "cell_type": "markdown",
   "id": "0a5075a4",
   "metadata": {},
   "source": [
    "### Bài 5\n",
    "\n",
    "Số armstrong là số có tổng của các chữ số mũ số lượng chữ số bằng chính nó\n",
    "\n",
    "Ví dụ\n",
    "\n",
    "Số 371 là một số armstrong vì:\n",
    "\n",
    "371 = 3^3 + 7^3 + 1^3 (3 là số lượng chữ số của 371)\n",
    "\n",
    "Số 1634 là một số armstrong vì:\n",
    "\n",
    "1634 = 1^4 + 6^4 + 3^4 + 4^4 (4 là số lượng chữ số của 1634)\n",
    "\n",
    "Nhập vào số a, kiểm tra xem a có phải là số armstrong không"
   ]
  },
  {
   "cell_type": "code",
   "execution_count": null,
   "id": "b9ed54a5",
   "metadata": {},
   "outputs": [],
   "source": [
    "a = float(input(\"Nhập số a = \"))\n",
    "while a <= 0 or a % 1 != 0:\n",
    "    a = float(input(\"Nhập lại số a = \"))\n",
    "    \n",
    "b = a ## cho a vào b để giữ giá trị biến a\n",
    "dem = 0\n",
    "while a > 0:\n",
    "    a = a // 10\n",
    "    dem += 1 ## Đếm số lượng chữ số \n",
    "a = b ## cho b vào a để giữ giá trị biến b\n",
    "tong = 0\n",
    "while b > 0:\n",
    "    c = b % 10\n",
    "    b = b // 10\n",
    "    tong += c**dem\n",
    "if tong == a:\n",
    "    print(\"Đây là số Armstrong\")\n",
    "else:\n",
    "    print(\"Đây ko phải là số Armstrong\") "
   ]
  },
  {
   "cell_type": "markdown",
   "id": "f8a584d3",
   "metadata": {},
   "source": [
    "### Bài 6\n",
    "\n",
    "Dãy số fibonacci là dãy số được định nghĩa như sau: 1, 1, 2, 3, 5, 8, 13,... với số kế tiếp sẽ bằng tổng hai số trước đó\n",
    "\n",
    "Nhập vào A, hãy tìm số trong dãy số fibonacci lớn nhất nhưng không vượt quá A"
   ]
  },
  {
   "cell_type": "code",
   "execution_count": 20,
   "id": "3ad4d85b",
   "metadata": {},
   "outputs": [
    {
     "ename": "IndentationError",
     "evalue": "expected an indented block after 'if' statement on line 9 (1090572799.py, line 9)",
     "output_type": "error",
     "traceback": [
      "\u001b[1;36m  Input \u001b[1;32mIn [20]\u001b[1;36m\u001b[0m\n\u001b[1;33m    if(a==S):\u001b[0m\n\u001b[1;37m             ^\u001b[0m\n\u001b[1;31mIndentationError\u001b[0m\u001b[1;31m:\u001b[0m expected an indented block after 'if' statement on line 9\n"
     ]
    }
   ],
   "source": [
    "A = float(input(\"Nhập số a = \"))\n",
    "while a <= 0 or a % 1 != 0:\n",
    "    a = float(input(\"Nhập lại số a = \"))\n",
    "a = b = 1\n",
    "c = a + b\n",
    "while True:\n",
    "    a = b\n",
    "    b = c\n",
    "    c = a + b\n",
    "    if c > A:\n",
    "        break\n",
    "print(\"Số fibonacci là\",b)"
   ]
  },
  {
   "cell_type": "markdown",
   "id": "9fa794f2",
   "metadata": {},
   "source": [
    "### Bài 7\n",
    "\n",
    "Nhập vào A, tìm n nhỏ nhất sao cho\n",
    "\n",
    "1 + 1/2 + 1/3 + 1/4 + ... + 1/n > A"
   ]
  },
  {
   "cell_type": "code",
   "execution_count": 7,
   "id": "246ec002",
   "metadata": {},
   "outputs": [
    {
     "name": "stdout",
     "output_type": "stream",
     "text": [
      "Nhập số a = 1.5\n",
      "3\n"
     ]
    }
   ],
   "source": [
    "A = float(input(\"Nhập số a = \"))\n",
    "while a <= 0 or a % 1 != 0:\n",
    "    a = float(input(\"Nhập lại số a = \"))\n",
    "n = 1\n",
    "S = 0\n",
    "while True:\n",
    "    S += 1/n\n",
    "    if S > A:\n",
    "        break\n",
    "    n+=1\n",
    "print(n)"
   ]
  },
  {
   "cell_type": "markdown",
   "id": "c5fd4d8a",
   "metadata": {},
   "source": [
    "### Bài 8\n",
    "\n",
    "Nhập vào a và b là số nguyên dương (b có một chữ số, nhập sai yêu cầu nhập lại), hãy tìm vị trí đầu tiên (bắt đầu từ bên trái) của b trong a, nếu không tìm thấy thì in kết quả là 0 (ví trí đầu bắt đầu từ 1)\n",
    "\n",
    "<b>Ví dụ:</b>\n",
    "\n",
    "<b>Nhập:</b>\n",
    "- a = 125785\n",
    "- b = 5\n",
    "\n",
    "<b>Kết quả:</b> 3 (do số 5 nằm ở vị trí 3)"
   ]
  },
  {
   "cell_type": "code",
   "execution_count": 8,
   "id": "9edf35ac",
   "metadata": {},
   "outputs": [
    {
     "name": "stdout",
     "output_type": "stream",
     "text": [
      "Nhập số a = 123\n",
      "Nhập số a = 3\n",
      "0\n"
     ]
    }
   ],
   "source": [
    "a = float(input(\"Nhập số a = \"))\n",
    "while a <= 0 or a % 1 != 0:\n",
    "    a = float(input(\"Nhập lại số a = \"))\n",
    "b = float(input(\"Nhập số b = \"))\n",
    "while b <= 0 or b % 1 != 0:\n",
    "    b = float(input(\"Nhập lại số b = \"))\n",
    "a = int(a)\n",
    "a = str(a)\n",
    "b = int(b)\n",
    "b = str(b)\n",
    "ketqua = a.find(b)\n",
    "print(ketqua+1)"
   ]
  }
 ],
 "metadata": {
  "kernelspec": {
   "display_name": "Python 3 (ipykernel)",
   "language": "python",
   "name": "python3"
  },
  "language_info": {
   "codemirror_mode": {
    "name": "ipython",
    "version": 3
   },
   "file_extension": ".py",
   "mimetype": "text/x-python",
   "name": "python",
   "nbconvert_exporter": "python",
   "pygments_lexer": "ipython3",
   "version": "3.10.2"
  }
 },
 "nbformat": 4,
 "nbformat_minor": 5
}
