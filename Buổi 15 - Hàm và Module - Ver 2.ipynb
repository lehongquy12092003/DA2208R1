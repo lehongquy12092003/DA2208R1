{
 "cells": [
  {
   "cell_type": "markdown",
   "id": "73456e5e",
   "metadata": {},
   "source": [
    "# Hàm\n",
    "\n",
    "### Hàm\n",
    "\n",
    "Cú pháp:\n",
    "\n",
    "`def <tên hàm>(<tham số)>:\n",
    "    //Nội dung hàm`\n",
    "\n",
    "Gọi hàm:\n",
    "`<tên hàm>(<giá trị đầu vào>)`\n",
    "\n",
    "Ví dụ:\n",
    "\n",
    "Hãy viết 1 hàm số để tính tổng 2 số đầu vào và in nó ra màn hình"
   ]
  },
  {
   "cell_type": "code",
   "execution_count": 1,
   "id": "af5b9f6d",
   "metadata": {},
   "outputs": [
    {
     "name": "stdout",
     "output_type": "stream",
     "text": [
      "xin chào\n",
      "xin chào\n"
     ]
    }
   ],
   "source": [
    "def xinchao(): ## def dùng để khai báo hàm, chỉ khai báo,chưa thực hiện hàm\n",
    "    print(\"xin chào\") ## những câu lệnh bên trong hàm sẽ không được thực hiện cho đến khi ta gọi nó\n",
    "xinchao()\n",
    "xinchao()"
   ]
  },
  {
   "cell_type": "code",
   "execution_count": null,
   "id": "ae4814c6",
   "metadata": {},
   "outputs": [],
   "source": [
    "def hamdemo():\n",
    "    print(\"hi\")\n",
    "    print(\"hello\")\n",
    "    \n",
    "hamdemo()\n",
    "hamdemo()"
   ]
  },
  {
   "cell_type": "code",
   "execution_count": null,
   "id": "7ba172e3",
   "metadata": {},
   "outputs": [],
   "source": [
    "### viết hàm nhập tên, năm sinh rồi in ra thông tin\n",
    "### In ra thông tin: Xin chào {tên}, bạn có {tuổi} tuổi\n",
    "def thongtin():\n",
    "    ten = input(\"Nhập tên: \")\n",
    "    namsinh = int(input(\"Nhập năm sinh: \"))\n",
    "    tuoi = 2022 - namsinh\n",
    "    print(\"Xin chào {0}, bạn có {1} tuổi\".format(ten,tuoi))\n",
    "thongtin()"
   ]
  },
  {
   "cell_type": "code",
   "execution_count": null,
   "id": "dbf9d17d",
   "metadata": {},
   "outputs": [],
   "source": [
    "a = 7\n",
    "def hamdemo1():\n",
    "    global a\n",
    "    a = 3\n",
    "    print(a)\n",
    "    \n",
    "hamdemo1()\n",
    "print(a)"
   ]
  },
  {
   "cell_type": "code",
   "execution_count": null,
   "id": "457ecd91",
   "metadata": {},
   "outputs": [],
   "source": [
    "def mu2(a): ## a là tham số của hàm, a là biến local\n",
    "    global a ## lỗi vì khi a đã là tham số thì ko đc global a\n",
    "    b = a**2\n",
    "    print(b)\n",
    "a = 7    \n",
    "mu2(4)"
   ]
  },
  {
   "cell_type": "code",
   "execution_count": null,
   "id": "416a91de",
   "metadata": {},
   "outputs": [],
   "source": [
    "## viết hàm in bảng cửu chương số đó\n",
    "def bcc(a):\n",
    "    for i in range(1,11):\n",
    "        print(\"{0} x {1} = {2}\".format(a,i,a*i))\n",
    "        \n",
    "bcc(8)"
   ]
  },
  {
   "cell_type": "code",
   "execution_count": 9,
   "id": "e357afcd",
   "metadata": {},
   "outputs": [
    {
     "name": "stdout",
     "output_type": "stream",
     "text": [
      "10\n",
      "15\n"
     ]
    }
   ],
   "source": [
    "def tong(a,b):\n",
    "    c = a + b\n",
    "    print(c)\n",
    "    \n",
    "tong(3,7)\n",
    "tong(8,7)"
   ]
  },
  {
   "cell_type": "code",
   "execution_count": 10,
   "id": "244553ef",
   "metadata": {},
   "outputs": [
    {
     "name": "stdout",
     "output_type": "stream",
     "text": [
      "HOA\n"
     ]
    }
   ],
   "source": [
    "def demo(s):\n",
    "    a = s.upper()\n",
    "    print(a)\n",
    "demo(\"hoa\")"
   ]
  },
  {
   "cell_type": "code",
   "execution_count": null,
   "id": "48d94894",
   "metadata": {},
   "outputs": [],
   "source": [
    "def tinhtoan(a,b):\n",
    "    print(\"{0} + {1} = {2}\".format(a,b,a+b))\n",
    "    print(\"{0} x {1} = {2}\".format(a,b,a*b))\n",
    "    print(\"{0} / {1} = {2}\".format(a,b,a/b))\n",
    "    print(\"{0} - {1} = {2}\".format(a,b,a-b))\n",
    "    \n",
    "tinhtoan(4,7)"
   ]
  },
  {
   "cell_type": "code",
   "execution_count": null,
   "id": "65f0ebd4",
   "metadata": {},
   "outputs": [],
   "source": [
    "## S là tên món hàng, a là giá tiền sản phẩm\n",
    "## Hãy in ra màn hình và mời mọi người nhập vào số lượng cần mua\n",
    "## Tính và in ra giá tiền cần trả\n",
    "\n",
    "def hanghoa(S,a):\n",
    "    print(\"Tên sản phẩm:\",S)\n",
    "    print(\"Giá: \",a)\n",
    "    l = int(input(\"Nhập số lượng cần mua:\"))\n",
    "    l = l * a\n",
    "    print(\"Số tiền cần trả là \",l)\n",
    "\n",
    "hanghoa(\"Bột giặt\",150000)"
   ]
  },
  {
   "cell_type": "markdown",
   "id": "a7c39f47",
   "metadata": {},
   "source": [
    "### Giá trị trả về của hàm\n",
    "\n",
    "# return\n",
    "\n",
    "Cú pháp:\n",
    "\n",
    "`retrun <giá trị trả về>`\n",
    "\n",
    "##### Lưu ý: Sau khi thực hiện lệnh return, chương trình sẽ thoát khỏi hàm ngay lập tức (những lệnh sau đó không được thực hiện)\n",
    "\n",
    "Ví dụ:\n",
    "\n",
    "Hãy viết 1 hàm trả về giá trị trung bình của 2 số bất kỳ"
   ]
  },
  {
   "cell_type": "code",
   "execution_count": 1,
   "id": "0b527b95",
   "metadata": {},
   "outputs": [
    {
     "name": "stdout",
     "output_type": "stream",
     "text": [
      "Tên sản phẩm: Bột giặt\n",
      "Giá:  150000\n",
      "Nhập số lượng cần mua:4\n",
      "số tiền phải trả là:  600000\n"
     ]
    }
   ],
   "source": [
    "## S là tên món hàng, a là giá tiền sản phẩm\n",
    "## Hãy in ra màn hình và mời mọi người nhập vào số lượng cần mua\n",
    "## Tính và in ra giá tiền cần trả\n",
    "\n",
    "def hanghoa(S,a):\n",
    "    print(\"Tên sản phẩm:\",S)\n",
    "    print(\"Giá: \",a)\n",
    "    l = int(input(\"Nhập số lượng cần mua:\"))\n",
    "    l = l * a\n",
    "    return l\n",
    "    \n",
    "c = hanghoa(\"Bột giặt\",150000)\n",
    "print(\"số tiền phải trả là: \",c)"
   ]
  },
  {
   "cell_type": "code",
   "execution_count": 3,
   "id": "e00eb8c8",
   "metadata": {},
   "outputs": [
    {
     "name": "stdout",
     "output_type": "stream",
     "text": [
      "Tên món ăn  Cơm sườn\n",
      "Giá  30000\n",
      "Nhập số lượng cần mua 1\n",
      "Tên món ăn  Cơm gà\n",
      "Giá  35000\n",
      "Nhập số lượng cần mua 1\n",
      "Tên món ăn  Cơm trứng\n",
      "Giá  25000\n",
      "Nhập số lượng cần mua 1\n",
      "Tổng thanh toán là:  90000\n"
     ]
    }
   ],
   "source": [
    "def muamonan(S,a):\n",
    "    print(\"Tên món ăn \",S)\n",
    "    print(\"Giá \",a)\n",
    "    l = int(input(\"Nhập số lượng cần mua \"))\n",
    "    l = l * a\n",
    "    return l\n",
    "gia_suon = muamonan(\"Cơm sườn\",30000)\n",
    "gia_ga = muamonan(\"Cơm gà\",35000)\n",
    "gia_trung = muamonan(\"Cơm trứng\",25000)\n",
    "tong = gia_suon + gia_ga + gia_trung\n",
    "print(\"Tổng thanh toán là: \",tong)"
   ]
  },
  {
   "cell_type": "code",
   "execution_count": 28,
   "id": "c1ba8542",
   "metadata": {},
   "outputs": [
    {
     "name": "stdout",
     "output_type": "stream",
     "text": [
      "22\n"
     ]
    }
   ],
   "source": [
    "def tong(a,b):\n",
    "    S = a + b\n",
    "    return S\n",
    "\n",
    "c = tong(10,12)\n",
    "print(c)"
   ]
  },
  {
   "cell_type": "markdown",
   "id": "1d7f8db0",
   "metadata": {},
   "source": [
    "### Bài tập"
   ]
  },
  {
   "cell_type": "markdown",
   "id": "75fb488b",
   "metadata": {},
   "source": [
    "Viết hàm kiểm tra số nguyên tố"
   ]
  },
  {
   "cell_type": "code",
   "execution_count": 37,
   "id": "63701bd7",
   "metadata": {},
   "outputs": [
    {
     "name": "stdout",
     "output_type": "stream",
     "text": [
      "Nhập số a= 5\n",
      "a là số nguyên tố\n"
     ]
    }
   ],
   "source": [
    "def kiemtrasnt(a):\n",
    "    dem = 0\n",
    "    for i in range(1,a+1):\n",
    "        if a % i == 0:\n",
    "            dem += 1\n",
    "    if dem == 2:\n",
    "        print(\"a là số nguyên tố\")\n",
    "    else:\n",
    "        print(\"a không phải là số nguyên tố\")\n",
    "a = int(input(\"Nhập số a= \"))\n",
    "kiemtrasnt(a)"
   ]
  },
  {
   "cell_type": "markdown",
   "id": "221103cf",
   "metadata": {},
   "source": [
    "Nhập vào 3 điểm toán, lý, hóa\n",
    "\n",
    "Hãy viết hàm in điểm trung bung bình rồi tính điểm trung bình của toán lý, toán hóa, lý hóa và toán lý hóa"
   ]
  },
  {
   "cell_type": "code",
   "execution_count": 31,
   "id": "1ba1d8ae",
   "metadata": {},
   "outputs": [
    {
     "name": "stdout",
     "output_type": "stream",
     "text": [
      "Nhập vào điểm toán: 7\n",
      "Nhập vào điểm lí: 8\n",
      "Nhập vào điểm hóa: 9\n",
      "Điểm trung bình 3 môn là 8.0\n",
      "Điểm trung bình toán lí là:  7.5\n",
      "Điểm trung bình toán hóa là:  8.0\n",
      "Điểm trung bình lí hóa là:  8.5\n"
     ]
    }
   ],
   "source": [
    "def tb3(a,b,c):\n",
    "    dtb = (a+b+c)/3\n",
    "    return dtb\n",
    "\n",
    "def tb2(a,b):\n",
    "    dtb = (a+b)/2\n",
    "    return dtb\n",
    "\n",
    "toan = float(input(\"Nhập vào điểm toán: \"))\n",
    "li = float(input(\"Nhập vào điểm lí: \"))\n",
    "hoa = float(input(\"Nhập vào điểm hóa: \"))\n",
    "c = tb3(toan,li,hoa)\n",
    "print(\"Điểm trung bình 3 môn là\",c)\n",
    "d = tb2(toan,li)\n",
    "print(\"Điểm trung bình toán lí là: \",d)\n",
    "e = tb2(toan,hoa)\n",
    "print(\"Điểm trung bình toán hóa là: \",e)\n",
    "f = tb2(li,hoa)\n",
    "print(\"Điểm trung bình lí hóa là: \",f)"
   ]
  },
  {
   "cell_type": "markdown",
   "id": "06eb5c4a",
   "metadata": {},
   "source": [
    "Viết hàm tính giai thừa của một số"
   ]
  },
  {
   "cell_type": "code",
   "execution_count": 7,
   "id": "7b91ddf0",
   "metadata": {},
   "outputs": [
    {
     "name": "stdout",
     "output_type": "stream",
     "text": [
      "Nhập vào số a: 3\n",
      "Giai thừa của a là 6\n"
     ]
    }
   ],
   "source": [
    "def tinhgiaithua(a):\n",
    "    gt = 1\n",
    "    for i in range(1,a+1):\n",
    "        gt*= i\n",
    "    return gt\n",
    "a = int(input(\"Nhập vào số a: \"))\n",
    "c = tinhgiaithua(a)\n",
    "print(\"Giai thừa của a là\",c)"
   ]
  },
  {
   "cell_type": "markdown",
   "id": "50f43307",
   "metadata": {},
   "source": [
    "Viết hàm đếm số lượng từ của một chuỗi đưa vào"
   ]
  },
  {
   "cell_type": "code",
   "execution_count": 16,
   "id": "be785b29",
   "metadata": {},
   "outputs": [
    {
     "name": "stdout",
     "output_type": "stream",
     "text": [
      "Nhập vào chuỗi: sf dgsd \n",
      "Số từ đếm được là  3\n"
     ]
    }
   ],
   "source": [
    "def demsotu(a):\n",
    "    dem = 0\n",
    "    for i in a:\n",
    "        if i == \" \":\n",
    "            dem += 1\n",
    "    return dem +1\n",
    "a = input(\"Nhập vào chuỗi: \")\n",
    "c = demsotu(a)\n",
    "print(\"Số từ đếm được là \",c)"
   ]
  },
  {
   "cell_type": "markdown",
   "id": "696aa7d2",
   "metadata": {},
   "source": [
    "Viết hàm có giá trị đầu vào là tên sản phẩm, giá một sản phẩm và số lượng sản phẩm, tính và trả về tổng giá tiền"
   ]
  },
  {
   "cell_type": "code",
   "execution_count": 14,
   "id": "da2213a2",
   "metadata": {},
   "outputs": [
    {
     "name": "stdout",
     "output_type": "stream",
     "text": [
      "500000\n"
     ]
    }
   ],
   "source": [
    "def tinhtien(ten,gia,soluong):\n",
    "    tien = soluong * gia\n",
    "    return tien\n",
    "c = tinhtien(\"xà bông\",100000,5)\n",
    "print(c)"
   ]
  },
  {
   "cell_type": "markdown",
   "id": "acdf1356",
   "metadata": {},
   "source": [
    "Viết hàm lấy tên đệm\n",
    "\n",
    "Ví dụ: Nhập vào \"Nguyễn Tâm Điền\"\n",
    "\n",
    "Kết quả in ra là: \"Tâm\""
   ]
  },
  {
   "cell_type": "code",
   "execution_count": 11,
   "id": "a5255f7a",
   "metadata": {},
   "outputs": [
    {
     "name": "stdout",
     "output_type": "stream",
     "text": [
      "Hồng \n"
     ]
    }
   ],
   "source": [
    "## find -- tìm khoảng trắng đầu tiên\n",
    "## rfind -- tìm khoảng trắng cuối cùng\n",
    "def laytendem(hoten):\n",
    "    a = hoten.find(\" \")## a là vị trí khoảng trắng đầu tiên\n",
    "    b = hoten.rfind(\" \")## b là vị trí khoảng trắng cuối cùng\n",
    "    return hoten[a+1:b+1] ## không lấy khoảng trắng tại a\n",
    "c = laytendem(\"Lê Hồng Quý\")\n",
    "print(c)"
   ]
  },
  {
   "cell_type": "code",
   "execution_count": 13,
   "id": "559774da",
   "metadata": {},
   "outputs": [
    {
     "name": "stdout",
     "output_type": "stream",
     "text": [
      "Hồng\n"
     ]
    }
   ],
   "source": [
    "def laytendem(chuoi):\n",
    "    a = chuoi.find(\" \")\n",
    "    b = chuoi.rfind(\" \")\n",
    "    c = chuoi[a+1:b]\n",
    "    return c\n",
    "d = laytendem(\"Lê Hồng Quý\")\n",
    "print(d)"
   ]
  },
  {
   "cell_type": "markdown",
   "id": "b4adef40",
   "metadata": {},
   "source": [
    "Viết một hàm vẽ hình tròn, một hàm vẽ hình vuông và một hàm vẽ hình tam giác đều (giá trị đầu vào là a)\n",
    "\n",
    "Tất cả hàm này, bắt đầu từ 1 vị trí, sau khi vẽ ra, con trỏ sẽ tiến tới vị trí tiếp theo, cách vì đầu một khoảng a + 10 theo chiều x từ trái sang"
   ]
  },
  {
   "cell_type": "code",
   "execution_count": 1,
   "id": "e405d1d4",
   "metadata": {},
   "outputs": [],
   "source": [
    "import turtle\n",
    "t = turtle.Turtle()\n",
    "\n",
    "def vehinhtron(a): ## a là đường kính\n",
    "    t.pu()\n",
    "    t.fd(a/2)\n",
    "    t.pd()\n",
    "    t.circle(a/2)\n",
    "    t.pu()\n",
    "    t.fd(a/2 + 10)\n",
    "    t.pd()\n",
    "def vehinhvuong(a): ## a là cạnh hình vuông\n",
    "    for i in range(4):\n",
    "        t.fd(a)\n",
    "        t.lt(90)\n",
    "    t.pu()\n",
    "    t.fd(a+10)\n",
    "    t.pd()\n",
    "def vetamgiac(a):\n",
    "    for i in range(3):\n",
    "        t.fd(a)\n",
    "        t.lt(120)\n",
    "    t.pu()\n",
    "    t.fd(a+10)\n",
    "    t.pd()\n",
    "vehinhtron(100)\n",
    "vehinhvuong(100)\n",
    "vetamgiac(100)"
   ]
  }
 ],
 "metadata": {
  "kernelspec": {
   "display_name": "Python 3 (ipykernel)",
   "language": "python",
   "name": "python3"
  },
  "language_info": {
   "codemirror_mode": {
    "name": "ipython",
    "version": 3
   },
   "file_extension": ".py",
   "mimetype": "text/x-python",
   "name": "python",
   "nbconvert_exporter": "python",
   "pygments_lexer": "ipython3",
   "version": "3.10.2"
  }
 },
 "nbformat": 4,
 "nbformat_minor": 5
}
