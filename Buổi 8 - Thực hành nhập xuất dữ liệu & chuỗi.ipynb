{
 "cells": [
  {
   "cell_type": "markdown",
   "id": "5bc93fb0",
   "metadata": {},
   "source": [
    "# Thực hành nhập xuất dữ liệu & chuỗi\n",
    "\n",
    "### Bài tập tra cứu lệnh\n",
    "\n",
    "Nhập vào một chuỗi, kiểm tra xem chuỗi đó có ký tự nào là chữ in hoa hay không, nếu có thì in True, không có thì in False"
   ]
  },
  {
   "cell_type": "code",
   "execution_count": null,
   "id": "4b3df2ba",
   "metadata": {},
   "outputs": [],
   "source": [
    "a = input(\"nhập vào chuỗi: \")\n",
    "ketqua = not(a.islower())  \n",
    "print(ketqua)"
   ]
  },
  {
   "cell_type": "code",
   "execution_count": 7,
   "id": "a1d41473",
   "metadata": {},
   "outputs": [
    {
     "name": "stdout",
     "output_type": "stream",
     "text": [
      "0 0\n",
      "1 1\n",
      "2 1\n",
      "3 1\n",
      "4 0\n",
      "5 0\n",
      "6 0\n",
      "7 0\n",
      "8 0\n",
      "9 0\n",
      "6\n"
     ]
    }
   ],
   "source": [
    "def tachso(chuoi):\n",
    "    S = 0\n",
    "    for i in range(10):\n",
    "        solan = chuoi.count(str(i))\n",
    "        print(i,solan)\n",
    "        S += i*solan\n",
    "    return S\n",
    "c = tachso(\"ádfghjkl123\")\n",
    "print(c)"
   ]
  },
  {
   "cell_type": "markdown",
   "id": "e14eae7c",
   "metadata": {},
   "source": [
    "Nhập vào một chuỗi, kiểm tra xem chuỗi đó có ký tự nào là chữ in thường hay không, nếu có thì in True, không có thì in False"
   ]
  },
  {
   "cell_type": "code",
   "execution_count": null,
   "id": "ab00180c",
   "metadata": {},
   "outputs": [],
   "source": [
    "a = input(\"nhập vào chuỗi: \")\n",
    "ketqua = not(a.isupper()) \n",
    "print(ketqua)"
   ]
  },
  {
   "cell_type": "markdown",
   "id": "eab86ecf",
   "metadata": {},
   "source": [
    "Nhập vào một chuỗi a và chuỗi b, tìm vị trí đầu tiên xuất hiện chuỗi b trong chuỗi a"
   ]
  },
  {
   "cell_type": "code",
   "execution_count": null,
   "id": "051eb4af",
   "metadata": {},
   "outputs": [],
   "source": [
    "a = input(\"nhập a= \")\n",
    "b = input(\"nhập b= \")\n",
    "c = a.find(b)\n",
    "print(c)"
   ]
  },
  {
   "cell_type": "markdown",
   "id": "9239bc4e",
   "metadata": {},
   "source": [
    "Nhập vào một chuỗi a, hãy xóa từ đầu tiên trong chuỗi a, rồi in ra màn hình"
   ]
  },
  {
   "cell_type": "code",
   "execution_count": 10,
   "id": "90967cd9",
   "metadata": {},
   "outputs": [
    {
     "name": "stdout",
     "output_type": "stream",
     "text": [
      "nhập a=anh nha\n",
      "anh n\n"
     ]
    }
   ],
   "source": [
    "a = input(\"nhập a=\")\n",
    "a = a.strip() # xóa vị trí khoảng trắng đầu tiên\n",
    "b = a.find(\" \") # Tìm vị trí khoảng trắng đầu tiên, b đang là vị trí dấu khoảng trắng\n",
    "c = a[:b]# xóa từ đầu và thêm khoảng cách\n",
    "print(c)"
   ]
  },
  {
   "cell_type": "markdown",
   "id": "05b74fb4",
   "metadata": {},
   "source": [
    "### Bài 1\n",
    "\n",
    "Nhập vào một chuỗi, đếm xem có bao nhiêu từ trong chuỗi kết thúc bằng chữ n"
   ]
  },
  {
   "cell_type": "code",
   "execution_count": null,
   "id": "d126675c",
   "metadata": {},
   "outputs": [],
   "source": [
    "a = input(\"nhập vào chuỗi: \")\n",
    "a += \" \" # Cộng thêm khoảng trắng ở cuối đuôi\n",
    "sotu = a.count(\"n \")\n",
    "print(sotu)"
   ]
  },
  {
   "cell_type": "markdown",
   "id": "53a78d35",
   "metadata": {},
   "source": [
    "### Bài 2\n",
    "\n",
    "Nhập vào một chuỗi, kiểm tra xem chuỗi đó có ký tự hoa hoặc ký tự thường hay không."
   ]
  },
  {
   "cell_type": "code",
   "execution_count": null,
   "id": "f5be8c39",
   "metadata": {},
   "outputs": [],
   "source": [
    "chuoi = input(\"nhập vào chuỗi: \")\n",
    "count = 0\n",
    "for i in range(len(chuoi)):\n",
    "    if chuoi[i].isalpha():\n",
    "        count +=1\n",
    "print(count >= 1)"
   ]
  },
  {
   "cell_type": "markdown",
   "id": "64ca662e",
   "metadata": {},
   "source": [
    "### Bài 3\n",
    "\n",
    "Nhập vào một chuỗi, kiểm tra tính đối xứng của chuỗi đó"
   ]
  },
  {
   "cell_type": "code",
   "execution_count": null,
   "id": "749f4136",
   "metadata": {},
   "outputs": [],
   "source": [
    "# cách 1\n",
    "chuoi = input(\"nhập chuỗi: \")\n",
    "h = 0\n",
    "k = -1\n",
    "count = 0\n",
    "motnuachuoi = len(chuoi)//2\n",
    "for i in range(motnuachuoi):#chia lấy nguyên\n",
    "    sosanh = chuoi[h] == chuoi[k] # trả về true or false\n",
    "    count += sosanh # True sẽ là 1 và false là 0\n",
    "    h += 1\n",
    "    k -= 1\n",
    "print(count == motnuachuoi)"
   ]
  },
  {
   "cell_type": "code",
   "execution_count": null,
   "id": "93d22ecc",
   "metadata": {},
   "outputs": [],
   "source": [
    "# cách 2\n",
    "chuoi = input(\"nhập chuỗi: \")\n",
    "chuoi_nguoc = chuoi[::-1] ## Đảo ngược chuỗi\n",
    "print(chuoi == chuoi_nguoc)"
   ]
  },
  {
   "cell_type": "markdown",
   "id": "85dd8fef",
   "metadata": {},
   "source": [
    "### Bài 4\n",
    "\n",
    "Nhập vào một chuỗi, in ra các ký tự trong chuỗi và nếu là ký tự hoa thì in kèm True, ký tự thường thì in kèm False"
   ]
  },
  {
   "cell_type": "code",
   "execution_count": null,
   "id": "0d099247",
   "metadata": {},
   "outputs": [],
   "source": [
    "chuoi = input(\"nhập vào chuỗi: \")\n",
    "\n",
    "for i in range(len(chuoi)):\n",
    "    print(chuoi[i],chuoi[i].isupper())"
   ]
  },
  {
   "cell_type": "markdown",
   "id": "1373dc74",
   "metadata": {},
   "source": [
    "### Bài 5\n",
    "\n",
    "Nhập vào một chuỗi, tìm các ký tự chỉ xuất hiện một lần trong chuỗi (nếu xuất hiện 1 lần in true, xuất hiện nhiều lần in false)\n",
    "\n",
    "Ví dụ:\n",
    "\n",
    "Nhập chuỗi: \"ABAbc\"\n",
    "\n",
    "In:\n",
    "\n",
    "A: False\n",
    "\n",
    "B: True\n",
    "\n",
    "A: False\n",
    "\n",
    "b: True\n",
    "\n",
    "c: True"
   ]
  },
  {
   "cell_type": "code",
   "execution_count": null,
   "id": "a93bc53d",
   "metadata": {},
   "outputs": [],
   "source": [
    "chuoi = input(\"nhập vào chuỗi: \")\n",
    "for i in range(len(chuoi)):\n",
    "    print(chuoi[i],chuoi.count(chuoi[i]) == 1,sep=\": \")"
   ]
  },
  {
   "cell_type": "markdown",
   "id": "69bebf4c",
   "metadata": {},
   "source": [
    "### Bài 6\n",
    "\n",
    "Nhập vào một chuỗi, kiểm tra trong chuỗi có con số hay không, nếu có in True, không có in False"
   ]
  },
  {
   "cell_type": "code",
   "execution_count": null,
   "id": "1b4eab4f",
   "metadata": {},
   "outputs": [],
   "source": [
    "chuoi = input(\"nhập vào chuỗi: \")\n",
    "dem = 0\n",
    "for i in range(len(chuoi)):\n",
    "    if chuoi[i].isnumeric:\n",
    "        dem += 1\n",
    "if dem >= 1:\n",
    "    print(\"True\")"
   ]
  },
  {
   "cell_type": "markdown",
   "id": "1e51403c",
   "metadata": {},
   "source": [
    "### Bài 7\n",
    "\n",
    "Nhập vào một chuỗi, tách những con số có trong chuỗi ra rồi tính tổng của chúng\n",
    "\n",
    "In tổng lên màn hình"
   ]
  },
  {
   "cell_type": "code",
   "execution_count": 2,
   "id": "a34e349d",
   "metadata": {},
   "outputs": [
    {
     "name": "stdout",
     "output_type": "stream",
     "text": [
      "nhập vào chuỗi: dfghjkl147\n",
      "0 0\n",
      "1 1\n",
      "2 0\n",
      "3 0\n",
      "4 1\n",
      "5 0\n",
      "6 0\n",
      "7 1\n",
      "8 0\n",
      "9 0\n",
      "12\n"
     ]
    }
   ],
   "source": [
    "chuoi = input(\"nhập vào chuỗi: \")\n",
    "tong = 0\n",
    "for i in range(10):\n",
    "    solan = chuoi.count(str(i))\n",
    "    print(i,solan)\n",
    "    tong+= i*solan\n",
    "print(tong)"
   ]
  },
  {
   "cell_type": "markdown",
   "id": "e951779d",
   "metadata": {},
   "source": [
    "### Bài 8\n",
    "\n",
    "Nhập vào một chuỗi, đảo ngược chuỗi đã nhập rồi in ra màn hình"
   ]
  },
  {
   "cell_type": "code",
   "execution_count": null,
   "id": "9305f0f1",
   "metadata": {},
   "outputs": [],
   "source": [
    "chuoi = input(\"nhập vào chuỗi: \")\n",
    "print(chuoi[::-1])"
   ]
  },
  {
   "cell_type": "code",
   "execution_count": null,
   "id": "b32a49a9",
   "metadata": {},
   "outputs": [],
   "source": [
    "chuoi = input(\"nhập vào chuỗi\")\n",
    "k = -1\n",
    "for i in range(len(chuoi)):\n",
    "    chuoi_new += chuoi[k]\n",
    "    k-=1\n",
    "print(chuoi_new)"
   ]
  },
  {
   "cell_type": "markdown",
   "id": "04194b5c",
   "metadata": {},
   "source": [
    "### Bài 9\n",
    "\n",
    "Nhập vào một chuỗi, kiểm tra xem mỗi từ trong chuỗi có được viết hoa chữ cái đầu hay không, nếu tất cả đều được viết hoa thì in ra True, còn không thì in ra False\n",
    "\n",
    "Trong trường hợp là False, hãy viết hoa tất cả các chữ cái đầu của mỗi từ rồi in lên màn hình\n",
    "\n",
    "Cách làm thông thường:"
   ]
  },
  {
   "cell_type": "code",
   "execution_count": null,
   "id": "9f947c7d",
   "metadata": {},
   "outputs": [],
   "source": [
    "chuoi = input(\"nhập vào chuỗi: \")\n",
    "kt = True\n",
    "for i in range(chuoi.count(\" \") + 1):\n",
    "    vt = chuoi.find(\" \")\n",
    "    kt = kt and chuoi[vt+1].isupper()\n",
    "    chuoi = chuoi[:vt] + \"#\" + chuoi[vt+1:]\n",
    "    chuoi = chuoi[:vt+1] + chuoi[vt+1].upper()+chuoi[vt+2:]\n",
    "print(kt)\n",
    "print(chuoi.replace(\"#\",\" \"))"
   ]
  },
  {
   "cell_type": "markdown",
   "id": "f43e32af",
   "metadata": {},
   "source": [
    "Cách sử dụng lệnh có sẵn:"
   ]
  },
  {
   "cell_type": "code",
   "execution_count": 6,
   "id": "714f1412",
   "metadata": {},
   "outputs": [
    {
     "name": "stdout",
     "output_type": "stream",
     "text": [
      "nhập vào chuỗi: Anh\n",
      "True\n",
      "Anh\n"
     ]
    }
   ],
   "source": [
    "chuoi = input(\"nhập vào chuỗi: \")\n",
    "print(chuoi.istitle())\n",
    "print(chuoi.title())"
   ]
  }
 ],
 "metadata": {
  "kernelspec": {
   "display_name": "Python 3 (ipykernel)",
   "language": "python",
   "name": "python3"
  },
  "language_info": {
   "codemirror_mode": {
    "name": "ipython",
    "version": 3
   },
   "file_extension": ".py",
   "mimetype": "text/x-python",
   "name": "python",
   "nbconvert_exporter": "python",
   "pygments_lexer": "ipython3",
   "version": "3.10.2"
  }
 },
 "nbformat": 4,
 "nbformat_minor": 5
}
